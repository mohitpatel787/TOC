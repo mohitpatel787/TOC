{
 "cells": [
  {
   "cell_type": "code",
   "execution_count": 4,
   "metadata": {},
   "outputs": [
    {
     "name": "stdin",
     "output_type": "stream",
     "text": [
      "Enter The String 111\n"
     ]
    },
    {
     "name": "stdout",
     "output_type": "stream",
     "text": [
      "pos 1 state q1\n",
      "pos 1 state q2\n",
      "pos 1 state q3\n",
      "Valid String\n"
     ]
    },
    {
     "name": "stdin",
     "output_type": "stream",
     "text": [
      "Enter The String 00110\n"
     ]
    },
    {
     "name": "stdout",
     "output_type": "stream",
     "text": [
      "pos 0 state q0\n",
      "pos 0 state q0\n",
      "pos 1 state q1\n",
      "pos 1 state q2\n",
      "pos 0 state q0\n",
      "Invalid String\n"
     ]
    },
    {
     "name": "stdin",
     "output_type": "stream",
     "text": [
      "Enter The String 1100\n"
     ]
    },
    {
     "name": "stdout",
     "output_type": "stream",
     "text": [
      "pos 1 state q1\n",
      "pos 1 state q2\n",
      "pos 0 state q0\n",
      "pos 0 state q0\n",
      "Invalid String\n"
     ]
    }
   ],
   "source": [
    "def dfa(string):\n",
    "    dic={ 'q0':{0:'q0',1:'q1'},'q1':{0:'q0',1:'q2'},'q2':{0:'q0',1:'q3'},'q3':{0:'q3',1:'q3'}  }\n",
    "    initial='q0'\n",
    "    temp='none'\n",
    "    for x in string:\n",
    "        temp=int(x)\n",
    "        _next=dic[initial][temp]\n",
    "        initial=_next\n",
    "        print('pos',x,'state',_next)\n",
    "    if(_next=='q3'):\n",
    "        print(\"Valid String\")\n",
    "    else:\n",
    "        print(\"Invalid String\")\n",
    "temp=0\n",
    "while temp<3:\n",
    "    x=input(\"Enter The String\")\n",
    "    dfa(x)\n",
    "    temp+=1\n"
   ]
  },
  {
   "cell_type": "code",
   "execution_count": 5,
   "metadata": {},
   "outputs": [
    {
     "name": "stdin",
     "output_type": "stream",
     "text": [
      "Enter The String 1110\n"
     ]
    },
    {
     "name": "stdout",
     "output_type": "stream",
     "text": [
      "pos 1 state q1\n",
      "pos 1 state q2\n",
      "pos 1 state q0\n",
      "pos 0 state q1\n",
      "Invalid String\n"
     ]
    },
    {
     "name": "stdin",
     "output_type": "stream",
     "text": [
      "Enter The String 0011\n"
     ]
    },
    {
     "name": "stdout",
     "output_type": "stream",
     "text": [
      "pos 0 state q1\n",
      "pos 0 state q2\n",
      "pos 1 state q0\n",
      "pos 1 state q1\n",
      "Invalid String\n"
     ]
    },
    {
     "name": "stdin",
     "output_type": "stream",
     "text": [
      "Enter The String 1111\n"
     ]
    },
    {
     "name": "stdout",
     "output_type": "stream",
     "text": [
      "pos 1 state q1\n",
      "pos 1 state q2\n",
      "pos 1 state q0\n",
      "pos 1 state q1\n",
      "Invalid String\n"
     ]
    }
   ],
   "source": [
    "def dfa(string):\n",
    "    dic={ 'q0':{0:'q1',1:'q1'},'q1':{0:'q2',1:'q2'},'q2':{0:'q0',1:'q0'}  }\n",
    "    initial='q0'\n",
    "    temp='none'\n",
    "    for x in string:\n",
    "        temp=int(x)\n",
    "        _next=dic[initial][temp]\n",
    "        initial=_next\n",
    "        print('pos',x,'state',_next)\n",
    "    if(_next=='q0'):\n",
    "        print(\"Valid String\")\n",
    "    else:\n",
    "        print(\"Invalid String\")\n",
    "\n",
    "temp=0\n",
    "while temp<3:\n",
    "    x=input(\"Enter The String\")\n",
    "    dfa(x)\n",
    "    temp+=1"
   ]
  },
  {
   "cell_type": "code",
   "execution_count": null,
   "metadata": {},
   "outputs": [],
   "source": []
  }
 ],
 "metadata": {
  "kernelspec": {
   "display_name": "Python 3",
   "language": "python",
   "name": "python3"
  },
  "language_info": {
   "codemirror_mode": {
    "name": "ipython",
    "version": 3
   },
   "file_extension": ".py",
   "mimetype": "text/x-python",
   "name": "python",
   "nbconvert_exporter": "python",
   "pygments_lexer": "ipython3",
   "version": "3.7.3"
  }
 },
 "nbformat": 4,
 "nbformat_minor": 4
}
